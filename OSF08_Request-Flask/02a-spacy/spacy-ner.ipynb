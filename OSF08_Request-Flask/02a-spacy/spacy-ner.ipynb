{
 "cells": [
  {
   "cell_type": "markdown",
   "metadata": {},
   "source": [
    "# Spacy NER"
   ]
  },
  {
   "cell_type": "markdown",
   "metadata": {},
   "source": [
    "## Loading Model"
   ]
  },
  {
   "cell_type": "markdown",
   "metadata": {},
   "source": [
    "You'd need to have spacy and the model\n",
    "\n",
    "```\n",
    "pip install spacy\n",
    "python -m spacy download en_core_web_sm\n",
    "```"
   ]
  },
  {
   "cell_type": "code",
   "execution_count": 1,
   "metadata": {
    "ExecuteTime": {
     "end_time": "2019-08-22T20:35:54.837866Z",
     "start_time": "2019-08-22T20:35:52.732129Z"
    }
   },
   "outputs": [],
   "source": [
    "import spacy"
   ]
  },
  {
   "cell_type": "code",
   "execution_count": 2,
   "metadata": {
    "ExecuteTime": {
     "end_time": "2019-08-22T20:35:58.628149Z",
     "start_time": "2019-08-22T20:35:57.995002Z"
    }
   },
   "outputs": [],
   "source": [
    "nlp = spacy.load(\"en_core_web_sm\")\n"
   ]
  },
  {
   "cell_type": "code",
   "execution_count": 10,
   "metadata": {
    "ExecuteTime": {
     "end_time": "2019-08-22T22:48:17.309035Z",
     "start_time": "2019-08-22T22:48:17.297689Z"
    }
   },
   "outputs": [],
   "source": [
    "sample_text = \"\"\"Operation Goodwood was a series of air raids launched from aircraft carriers of the British Home Fleet against the German battleship Tirpitz in Kaafjord, Norway. It was the Royal Navy's last attack on Tirpitz, which posed a significant threat to the Allied convoys travelling to the Soviet Union. The Fleet departed its base on 18 August 1944 and first launched air raids against Kaafjord on the morning and evening of 22 August. Further attacks were made on 24 and 29 August. All of these attacks failed, and only two bombs struck Tirpitz. German forces suffered the loss of 12 aircraft and damage to 7 other ships. The British lost 17 aircraft and a frigate. HMS Nabob, an escort carrier, was also badly damaged. Historians attribute Operation Goodwood's failure to shortcomings of the Fleet Air Arm's aircraft and armament. The mission to sink Tirpitz was subsequently transferred to the Royal Air Force.\"\"\""
   ]
  },
  {
   "cell_type": "markdown",
   "metadata": {},
   "source": [
    "## Extracting Noun Chunks"
   ]
  },
  {
   "cell_type": "code",
   "execution_count": 5,
   "metadata": {
    "ExecuteTime": {
     "end_time": "2019-08-22T20:37:49.390462Z",
     "start_time": "2019-08-22T20:37:49.304345Z"
    }
   },
   "outputs": [],
   "source": [
    "doc = nlp(sample_text)"
   ]
  },
  {
   "cell_type": "code",
   "execution_count": 7,
   "metadata": {
    "ExecuteTime": {
     "end_time": "2019-08-22T20:38:33.514941Z",
     "start_time": "2019-08-22T20:38:33.479145Z"
    }
   },
   "outputs": [
    {
     "name": "stdout",
     "output_type": "stream",
     "text": [
      "Operation Goodwood Goodwood nsubj was\n",
      "a series series attr was\n",
      "air raids raids pobj of\n",
      "aircraft carriers carriers pobj from\n",
      "the British Home Fleet Fleet pobj of\n",
      "the German battleship Tirpitz Tirpitz pobj against\n",
      "Kaafjord Kaafjord pobj in\n",
      "Norway Norway appos Kaafjord\n",
      "It It nsubj was\n",
      "the Royal Navy's last attack attack attr was\n",
      "Tirpitz Tirpitz pobj on\n",
      "a significant threat threat dobj posed\n",
      "the Allied convoys convoys pobj to\n",
      "the Soviet Union Union pobj to\n",
      "The Fleet Fleet nsubj departed\n",
      "its base base dobj departed\n",
      "18 August August pobj on\n",
      "air raids raids dobj launched\n",
      "Kaafjord Kaafjord pobj against\n",
      "the morning morning pobj on\n",
      "evening evening conj morning\n",
      "22 August August pobj of\n",
      "Further attacks attacks nsubjpass made\n",
      "24 and 29 August August pobj on\n",
      "these attacks attacks pobj of\n",
      "only two bombs bombs nsubj struck\n",
      "Tirpitz Tirpitz dobj struck\n",
      "German forces forces nsubj suffered\n",
      "the loss loss dobj suffered\n",
      "12 aircraft aircraft pobj of\n",
      "damage damage conj aircraft\n",
      "7 other ships ships pobj to\n",
      "The British British nsubj lost\n",
      "17 aircraft aircraft dobj lost\n",
      "a frigate frigate conj aircraft\n",
      "HMS Nabob Nabob nsubj was\n",
      "an escort carrier carrier appos Nabob\n",
      "Historians Historians nsubj attribute\n",
      "Operation Goodwood's failure failure dobj attribute\n",
      "shortcomings shortcomings pobj to\n",
      "the Fleet Air Arm's aircraft aircraft pobj of\n",
      "armament armament conj aircraft\n",
      "The mission mission nsubjpass transferred\n",
      "Tirpitz Tirpitz dobj sink\n",
      "the Royal Air Force Force pobj to\n"
     ]
    }
   ],
   "source": [
    "for chunk in doc.noun_chunks:\n",
    "    print(chunk.text, chunk.root.text, chunk.root.dep_,\n",
    "            chunk.root.head.text)"
   ]
  },
  {
   "cell_type": "markdown",
   "metadata": {},
   "source": [
    "## Extracting NER"
   ]
  },
  {
   "cell_type": "code",
   "execution_count": 8,
   "metadata": {
    "ExecuteTime": {
     "end_time": "2019-08-22T20:39:31.160470Z",
     "start_time": "2019-08-22T20:39:31.134036Z"
    }
   },
   "outputs": [
    {
     "name": "stdout",
     "output_type": "stream",
     "text": [
      "Operation Goodwood 0 18 ORG\n",
      "the British Home Fleet 80 102 ORG\n",
      "German 115 121 NORP\n",
      "Tirpitz 133 140 GPE\n",
      "Kaafjord 144 152 GPE\n",
      "Norway 154 160 GPE\n",
      "the Royal Navy's 169 185 ORG\n",
      "Tirpitz 201 208 ORG\n",
      "Allied 250 256 ORG\n",
      "the Soviet Union 279 295 GPE\n",
      "Fleet 301 306 ORG\n",
      "18 August 1944 328 342 DATE\n",
      "first 347 352 ORDINAL\n",
      "Kaafjord 380 388 GPE\n",
      "the morning and evening of 22 August 392 428 TIME\n",
      "24 and 29 August 459 475 DATE\n",
      "only two 510 518 CARDINAL\n",
      "Tirpitz 532 539 GPE\n",
      "German 541 547 NORP\n",
      "12 576 578 CARDINAL\n",
      "7 602 603 CARDINAL\n",
      "British 621 628 NORP\n",
      "17 634 636 CARDINAL\n",
      "Historians 715 725 NORP\n",
      "Operation Goodwood's 736 756 ORG\n",
      "the Fleet Air Arm's 784 803 FAC\n",
      "Tirpitz 847 854 PERSON\n",
      "the Royal Air Force 887 906 ORG\n"
     ]
    }
   ],
   "source": [
    "for ent in doc.ents:\n",
    "    print(ent.text, ent.start_char, ent.end_char, ent.label_)"
   ]
  }
 ],
 "metadata": {
  "kernelspec": {
   "display_name": "Python 3",
   "language": "python",
   "name": "python3"
  },
  "language_info": {
   "codemirror_mode": {
    "name": "ipython",
    "version": 3
   },
   "file_extension": ".py",
   "mimetype": "text/x-python",
   "name": "python",
   "nbconvert_exporter": "python",
   "pygments_lexer": "ipython3",
   "version": "3.7.3"
  },
  "toc": {
   "base_numbering": 1,
   "nav_menu": {},
   "number_sections": true,
   "sideBar": true,
   "skip_h1_title": false,
   "title_cell": "Table of Contents",
   "title_sidebar": "Contents",
   "toc_cell": false,
   "toc_position": {},
   "toc_section_display": true,
   "toc_window_display": false
  }
 },
 "nbformat": 4,
 "nbformat_minor": 2
}
