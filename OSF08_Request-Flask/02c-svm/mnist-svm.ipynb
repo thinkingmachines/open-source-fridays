{
 "cells": [
  {
   "cell_type": "markdown",
   "metadata": {},
   "source": [
    "# Using SVMs for MNIST Digits"
   ]
  },
  {
   "cell_type": "markdown",
   "metadata": {},
   "source": [
    "https://github.com/thinkingmachines/open-source-fridays/blob/master/OSF05_Writing-tests/src.py"
   ]
  },
  {
   "cell_type": "markdown",
   "metadata": {},
   "source": [
    "## Training the model"
   ]
  },
  {
   "cell_type": "code",
   "execution_count": 1,
   "metadata": {
    "ExecuteTime": {
     "end_time": "2019-08-22T21:11:11.944889Z",
     "start_time": "2019-08-22T21:11:10.813089Z"
    }
   },
   "outputs": [],
   "source": [
    "from sklearn import datasets, svm, metrics\n",
    "from sklearn.model_selection import train_test_split\n",
    "\n",
    "\n",
    "def load(train_size=0.8):\n",
    "    digits = datasets.load_digits()\n",
    "    n_samples = len(digits.images)\n",
    "    data = digits.images.reshape((n_samples, -1))\n",
    "    X_train, X_test, y_train, y_test = train_test_split(\n",
    "        data, digits.target, train_size=train_size\n",
    "    )\n",
    "    return (X_train, X_test, y_train, y_test)\n",
    "\n",
    "\n",
    "def train(X_train, y_train, C=1.0, gamma=0.001):\n",
    "    classifier = svm.SVC(C=C, gamma=gamma)\n",
    "    classifier.fit(X_train, y_train)\n",
    "    train_preds = classifier.predict(X_train)\n",
    "    train_score = metrics.accuracy_score(y_train, train_preds)\n",
    "    print(\"Training accuracy score {:.3f}\".format(train_score))\n",
    "    return classifier, train_score\n",
    "\n",
    "\n",
    "def evaluate(classifier, X_test, y_test):\n",
    "    test_preds = classifier.predict(X_test)\n",
    "    test_score = metrics.accuracy_score(y_test, test_preds)\n",
    "    print(\"Test accuracy score {:.3f}\".format(test_score))\n",
    "    return test_score"
   ]
  },
  {
   "cell_type": "code",
   "execution_count": 2,
   "metadata": {
    "ExecuteTime": {
     "end_time": "2019-08-22T21:11:27.608570Z",
     "start_time": "2019-08-22T21:11:27.501551Z"
    }
   },
   "outputs": [],
   "source": [
    "X_train, X_test, y_train, y_test = load()"
   ]
  },
  {
   "cell_type": "code",
   "execution_count": 3,
   "metadata": {
    "ExecuteTime": {
     "end_time": "2019-08-22T21:12:01.994158Z",
     "start_time": "2019-08-22T21:12:01.774998Z"
    }
   },
   "outputs": [
    {
     "name": "stdout",
     "output_type": "stream",
     "text": [
      "Training accuracy score 0.999\n"
     ]
    }
   ],
   "source": [
    "model, score = train(X_train, y_train)"
   ]
  },
  {
   "cell_type": "code",
   "execution_count": 16,
   "metadata": {
    "ExecuteTime": {
     "end_time": "2019-08-22T22:10:18.810480Z",
     "start_time": "2019-08-22T22:10:18.776220Z"
    }
   },
   "outputs": [
    {
     "name": "stdout",
     "output_type": "stream",
     "text": [
      "Test accuracy score 0.997\n"
     ]
    },
    {
     "data": {
      "text/plain": [
       "0.9972222222222222"
      ]
     },
     "execution_count": 16,
     "metadata": {},
     "output_type": "execute_result"
    }
   ],
   "source": [
    "evaluate(model, X_test, y_test)"
   ]
  },
  {
   "cell_type": "markdown",
   "metadata": {},
   "source": [
    "## Saving the model"
   ]
  },
  {
   "cell_type": "code",
   "execution_count": 26,
   "metadata": {
    "ExecuteTime": {
     "end_time": "2019-08-22T22:31:40.177810Z",
     "start_time": "2019-08-22T22:31:40.174222Z"
    }
   },
   "outputs": [],
   "source": [
    "import pickle\n",
    "import numpy as np"
   ]
  },
  {
   "cell_type": "code",
   "execution_count": 37,
   "metadata": {
    "ExecuteTime": {
     "end_time": "2019-08-22T22:58:38.095654Z",
     "start_time": "2019-08-22T22:58:38.088568Z"
    }
   },
   "outputs": [],
   "source": [
    "with open('svm-mnist.sav', 'wb') as f:\n",
    "    pickle.dump(model, f)"
   ]
  },
  {
   "cell_type": "code",
   "execution_count": 29,
   "metadata": {
    "ExecuteTime": {
     "end_time": "2019-08-22T22:41:38.779658Z",
     "start_time": "2019-08-22T22:41:38.767999Z"
    }
   },
   "outputs": [],
   "source": [
    "np.save('X_train.npz', X_train)\n",
    "np.save('y_train.npz', y_train)\n",
    "np.save('X_test.npz', X_test)\n",
    "np.save('y_test.npz', y_test)"
   ]
  },
  {
   "cell_type": "markdown",
   "metadata": {},
   "source": [
    "# Predict"
   ]
  },
  {
   "cell_type": "code",
   "execution_count": 21,
   "metadata": {
    "ExecuteTime": {
     "end_time": "2019-08-22T22:12:35.944179Z",
     "start_time": "2019-08-22T22:12:35.932313Z"
    }
   },
   "outputs": [],
   "source": [
    "%matplotlib inline\n",
    "import matplotlib.pyplot as plt"
   ]
  },
  {
   "cell_type": "code",
   "execution_count": 22,
   "metadata": {
    "ExecuteTime": {
     "end_time": "2019-08-22T22:12:38.056569Z",
     "start_time": "2019-08-22T22:12:38.051212Z"
    }
   },
   "outputs": [],
   "source": [
    "def display_result(pixels, label):\n",
    "    pixels = pixels.reshape((8, 8))\n",
    "    plt.title('Label is {label}'.format(label=label))\n",
    "    plt.imshow(pixels, cmap='gray')\n",
    "    plt.show()"
   ]
  },
  {
   "cell_type": "code",
   "execution_count": 34,
   "metadata": {
    "ExecuteTime": {
     "end_time": "2019-08-22T22:43:05.818157Z",
     "start_time": "2019-08-22T22:43:05.813382Z"
    }
   },
   "outputs": [],
   "source": [
    "data = X_test[1].reshape(1, -1)\n",
    "result = model.predict(data)"
   ]
  },
  {
   "cell_type": "code",
   "execution_count": 36,
   "metadata": {
    "ExecuteTime": {
     "end_time": "2019-08-22T22:43:09.639178Z",
     "start_time": "2019-08-22T22:43:09.469279Z"
    }
   },
   "outputs": [
    {
     "data": {
      "image/png": "[encoded data removed]",
      "text/plain": [
       "<Figure size 432x288 with 1 Axes>"
      ]
     },
     "metadata": {
      "needs_background": "light"
     },
     "output_type": "display_data"
    }
   ],
   "source": [
    "display_result(data[0], result)"
   ]
  }
 ],
 "metadata": {
  "kernelspec": {
   "display_name": "Python 3",
   "language": "python",
   "name": "python3"
  },
  "language_info": {
   "codemirror_mode": {
    "name": "ipython",
    "version": 3
   },
   "file_extension": ".py",
   "mimetype": "text/x-python",
   "name": "python",
   "nbconvert_exporter": "python",
   "pygments_lexer": "ipython3",
   "version": "3.7.3"
  },
  "toc": {
   "base_numbering": 1,
   "nav_menu": {},
   "number_sections": true,
   "sideBar": true,
   "skip_h1_title": false,
   "title_cell": "Table of Contents",
   "title_sidebar": "Contents",
   "toc_cell": false,
   "toc_position": {},
   "toc_section_display": true,
   "toc_window_display": false
  }
 },
 "nbformat": 4,
 "nbformat_minor": 2
}
